{
 "cells": [
  {
   "cell_type": "markdown",
   "metadata": {},
   "source": [
    "# Using BERT to compare sentences"
   ]
  },
  {
   "cell_type": "code",
   "execution_count": 2,
   "metadata": {},
   "outputs": [],
   "source": [
    "#150%\n",
    "#bert-serving-start -cpu -model_dir C:\\Users\\Colin\\Documents\\bert\\uncased_L-12_H-768_A-12 -num_worker=2\n",
    "\n",
    "from bert_serving.client import BertClient\n",
    "import pandas as pd\n",
    "import numpy as np\n",
    "from termcolor import colored\n",
    "from sklearn import preprocessing as pre\n",
    "bc = BertClient()"
   ]
  },
  {
   "cell_type": "markdown",
   "metadata": {},
   "source": [
    "# Example 1."
   ]
  },
  {
   "cell_type": "code",
   "execution_count": 3,
   "metadata": {},
   "outputs": [],
   "source": [
    "sentence_1 = [\"I like apples\"]\n",
    "\n",
    "sentence_2 = [\"I like Apple computers\"]\n",
    "\n",
    "sentence_3 = [\"I like oranges\"]"
   ]
  },
  {
   "cell_type": "code",
   "execution_count": 4,
   "metadata": {},
   "outputs": [],
   "source": [
    "sen_1_embed = bc.encode(sentence_1)\n",
    "sen_2_embed = bc.encode(sentence_2)\n",
    "sen_3_embed = bc.encode(sentence_3)"
   ]
  },
  {
   "cell_type": "markdown",
   "metadata": {},
   "source": [
    "#### Similarity between vector embeddings"
   ]
  },
  {
   "cell_type": "code",
   "execution_count": 5,
   "metadata": {},
   "outputs": [],
   "source": [
    "# Here we are computing scores that show the similarity between the vector embeddings.\n",
    "\n",
    "# The more similar the vectors are, the closer the score is to 1.\n",
    "\n",
    "# Computes the dot product of the norms of sentence 1 and sentence 2 embeddings\n",
    "similarity_1_2 = np.sum(pre.normalize(sen_1_embed, norm = \"l2\") *\n",
    "                        pre.normalize(sen_2_embed, norm = \"l2\"))\n",
    "\n",
    "# Computes the dot product of the norms of sentence 1 and sentence 2 embeddings\n",
    "similarity_1_3 = np.sum(pre.normalize(sen_1_embed, norm = \"l2\") * \n",
    "                        pre.normalize(sen_3_embed, norm = \"l2\")) \n"
   ]
  },
  {
   "cell_type": "code",
   "execution_count": 6,
   "metadata": {},
   "outputs": [
    {
     "name": "stdout",
     "output_type": "stream",
     "text": [
      "0.88875353\n"
     ]
    }
   ],
   "source": [
    "# Similarity between \"I like apples\" and \"I like Apple computers\"\n",
    "\n",
    "print(similarity_1_2)"
   ]
  },
  {
   "cell_type": "code",
   "execution_count": 7,
   "metadata": {},
   "outputs": [
    {
     "name": "stdout",
     "output_type": "stream",
     "text": [
      "0.93167186\n"
     ]
    }
   ],
   "source": [
    "# Similarity between \"I like apples\" and \"I like oranges\"\n",
    "\n",
    "print(similarity_1_3)"
   ]
  },
  {
   "cell_type": "markdown",
   "metadata": {},
   "source": [
    "# Example 2."
   ]
  },
  {
   "cell_type": "code",
   "execution_count": 8,
   "metadata": {},
   "outputs": [],
   "source": [
    "search = pd.read_csv('search_demo.csv')\n",
    "doc_vecs = bc.encode(search[\"statement\"].values.tolist())"
   ]
  },
  {
   "cell_type": "markdown",
   "metadata": {},
   "source": [
    "#### Searching for similar sentences"
   ]
  },
  {
   "cell_type": "code",
   "execution_count": 9,
   "metadata": {},
   "outputs": [
    {
     "name": "stdout",
     "output_type": "stream",
     "text": [
      "                                            statement\n",
      "0                               Data science is cool!\n",
      "1                             CMDA is the best major.\n",
      "2                        I like coding in R the most.\n",
      "3              Python is a very good coding language.\n",
      "4        Virginia Tech football is coached by Fuente.\n",
      "5                   Virginia Tech lost to Notre Dame.\n",
      "6                         My favorite color is green.\n",
      "7            My favorite football team is The Ravens.\n",
      "8            My favorite baseball team is The Orioles\n",
      "9                           Math is the best subject.\n",
      "10                        Data Science is the future!\n",
      "11  Our capstone project is part of the history de...\n",
      "12                    There are four letters in CMDA.\n",
      "13  CMDA stands for Computational Modeling and Dat...\n",
      "14                    Virginia Tech is in Blacksburg.\n",
      "15                                  Orange and Maroon\n",
      "16                         I like the color blue too.\n"
     ]
    }
   ],
   "source": [
    "print(search)"
   ]
  },
  {
   "cell_type": "code",
   "execution_count": 10,
   "metadata": {
    "collapsed": true
   },
   "outputs": [
    {
     "name": "stdout",
     "output_type": "stream",
     "text": [
      "Search for : what does cmda stand for\n",
      "['CMDA stands for Computational Modeling and Data Analytics.'\n",
      " 'There are four letters in CMDA.']\n",
      "Search for : what is my favorite color\n",
      "['My favorite color is green.' 'I like the color blue too.']\n",
      "Search for : what are my favorite sports teams\n",
      "['My favorite baseball team is The Orioles'\n",
      " 'My favorite football team is The Ravens.']\n",
      "Search for : exit\n"
     ]
    }
   ],
   "source": [
    "#what is my favorite color\n",
    "#what are my favorite sports team\n",
    "#what does cmda stand for\n",
    "#Data Science\n",
    "\n",
    "while True:\n",
    "        query = input(colored('Search for : ', 'green'))\n",
    "        if query == \"exit\":\n",
    "            break\n",
    "        query_vec = bc.encode([query])[0]\n",
    "        # compute normalized dot product as score\n",
    "        score = np.sum(query_vec * doc_vecs, axis=1) / np.linalg.norm(doc_vecs, axis=1)\n",
    "        ids = np.arange(0, 17)\n",
    "        data = {'ids':ids, 'scores':score}\n",
    "        scores = pd.DataFrame(data)\n",
    "        scores = scores.sort_values(by = \"scores\", ascending = False)\n",
    "        print(search[\"statement\"].values[scores[\"ids\"].head(2).values])"
   ]
  }
 ],
 "metadata": {
  "kernelspec": {
   "display_name": "Python 3",
   "language": "python",
   "name": "python3"
  },
  "language_info": {
   "codemirror_mode": {
    "name": "ipython",
    "version": 3
   },
   "file_extension": ".py",
   "mimetype": "text/x-python",
   "name": "python",
   "nbconvert_exporter": "python",
   "pygments_lexer": "ipython3",
   "version": "3.7.4"
  }
 },
 "nbformat": 4,
 "nbformat_minor": 2
}
